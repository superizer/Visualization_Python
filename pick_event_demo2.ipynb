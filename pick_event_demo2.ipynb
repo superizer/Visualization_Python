{
 "cells": [
  {
   "cell_type": "code",
   "execution_count": 1,
   "metadata": {},
   "outputs": [],
   "source": [
    "%matplotlib inline"
   ]
  },
  {
   "cell_type": "markdown",
   "metadata": {},
   "source": [
    "\n",
    "# Pick Event Demo2\n",
    "\n",
    "\n",
    "compute the mean and standard deviation (stddev) of 100 data sets and plot\n",
    "mean vs stddev.  When you click on one of the mu, sigma points, plot the raw\n",
    "data from the dataset that generated the mean and stddev.\n",
    "\n"
   ]
  },
  {
   "cell_type": "code",
   "execution_count": 2,
   "metadata": {},
   "outputs": [
    {
     "data": {
      "image/png": "[encoded data removed]",
      "text/plain": [
       "<matplotlib.figure.Figure at 0x1120c9d68>"
      ]
     },
     "metadata": {},
     "output_type": "display_data"
    }
   ],
   "source": [
    "import numpy as np\n",
    "import matplotlib.pyplot as plt\n",
    "\n",
    "\n",
    "X = np.random.rand(100, 1000)\n",
    "xs = np.mean(X, axis=1)\n",
    "ys = np.std(X, axis=1)\n",
    "\n",
    "fig, ax = plt.subplots()\n",
    "ax.set_title('click on point to plot time series')\n",
    "line, = ax.plot(xs, ys, 'o', picker=5)  # 5 points tolerance\n",
    "\n",
    "\n",
    "def onpick(event):\n",
    "\n",
    "    if event.artist != line:\n",
    "        return True\n",
    "\n",
    "    N = len(event.ind)\n",
    "    if not N:\n",
    "        return True\n",
    "\n",
    "    figi = plt.figure()\n",
    "    for subplotnum, dataind in enumerate(event.ind):\n",
    "        ax = figi.add_subplot(N, 1, subplotnum + 1)\n",
    "        ax.plot(X[dataind])\n",
    "        ax.text(0.05, 0.9, 'mu=%1.3f\\nsigma=%1.3f' % (xs[dataind], ys[dataind]),\n",
    "                transform=ax.transAxes, va='top')\n",
    "        ax.set_ylim(-0.5, 1.5)\n",
    "    figi.show()\n",
    "    return True\n",
    "\n",
    "fig.canvas.mpl_connect('pick_event', onpick)\n",
    "\n",
    "plt.show()"
   ]
  },
  {
   "cell_type": "code",
   "execution_count": null,
   "metadata": {
    "collapsed": true
   },
   "outputs": [],
   "source": []
  }
 ],
 "metadata": {
  "kernelspec": {
   "display_name": "Python 3",
   "language": "python",
   "name": "python3"
  },
  "language_info": {
   "codemirror_mode": {
    "name": "ipython",
    "version": 3
   },
   "file_extension": ".py",
   "mimetype": "text/x-python",
   "name": "python",
   "nbconvert_exporter": "python",
   "pygments_lexer": "ipython3",
   "version": "3.6.2"
  }
 },
 "nbformat": 4,
 "nbformat_minor": 1
}
